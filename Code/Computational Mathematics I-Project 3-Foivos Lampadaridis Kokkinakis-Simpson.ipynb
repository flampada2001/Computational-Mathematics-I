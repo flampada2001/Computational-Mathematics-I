{
 "cells": [
  {
   "cell_type": "code",
   "execution_count": 1,
   "id": "274d8046-0e63-4830-bc68-e4101e8cd773",
   "metadata": {
    "tags": []
   },
   "outputs": [],
   "source": [
    "from __future__ import print_function, division\n",
    "import numpy as np\n",
    "import sympy\n",
    "import matplotlib\n",
    "import matplotlib.pyplot as plt\n",
    "import matplotlib.ticker as ticker"
   ]
  },
  {
   "cell_type": "markdown",
   "id": "53a8d743-4797-4084-be7e-2d84433557e4",
   "metadata": {},
   "source": [
    "# Computational Mathematics I, Project 3\n",
    "\n",
    "# Author: Foivos Lampadaridis Kokkinakis\n",
    "\n",
    "## Simpson's Method"
   ]
  },
  {
   "cell_type": "markdown",
   "id": "a4142dad-73a4-40e4-a975-dc134ae8d8e7",
   "metadata": {},
   "source": [
    "The function below will calculate any integral of the form $I=\\int_{a}^{b} \\int_{y_1(x)}^{y_2(x)} f(x,y) \\,dx\\,dy$"
   ]
  },
  {
   "cell_type": "code",
   "execution_count": 2,
   "id": "93ec669b-4006-45e5-a7bc-c83425d9f025",
   "metadata": {},
   "outputs": [],
   "source": [
    "#Our function takes as input:\n",
    "#1) The function f(x,y) we are trying to integrate\n",
    "#2) , 3) The lower a and upper b limits of integration with respect to x\n",
    "#4) #A list n_list containing the intervals that x will be brocken up into at each iteration\n",
    "#5) , 6) The lower y1(x) and upper y2(x) limits of integration with respect to y\n",
    "# 7) #A list m_list containing the intervals that y will be brocken up into at each iteration\n",
    "\n",
    "def doubleSimpson(f,a,b,n_list,y1,y2,m_list):\n",
    "    \n",
    "    I=np.zeros((len(n_list),len(m_list)))#The array that will contain the numerical approximations of our integral for different values of m and n\n",
    "    \n",
    "    for n_index, n in enumerate(n_list):#For every interval of x contained in n_list and n_index is the index counting the iteration of n we are in\n",
    "        h=(b-a)/n #The step of the x direction is calculated\n",
    "        \n",
    "        for m_index, m in enumerate(m_list):#For every interval of y contained in m_list and m_index is the index counting the iteration of m we are in\n",
    "        \n",
    "    \n",
    "            #The even ,odd and end terms of the final step (intagrating for x) are normalized at 0\n",
    "            Jend=0\n",
    "            Jeven=0\n",
    "            Jodd=0\n",
    "\n",
    "            for i in range(n+1): #for i=0,..n\n",
    "                x=a+i*h #We calculate x after i steps\n",
    "                \n",
    "                k=(y2(x)-y1(x))/m #The step in the y direction k(x) is calculated (numerical since x has a numerical value)\n",
    "        \n",
    "                #The even ,odd and end terms of the intermidiate  step (intagrating for y, numerical)\n",
    "                Lend=f(x,y1(x))+f(x,y2(x)) #The end terms Lend(x) of the intermidiate step is calculated here\n",
    "                #While the even Leven(x) and odd turms Lodd(x) are normalized at 0\n",
    "                Leven=0\n",
    "                Lodd=0\n",
    "                \n",
    "                for j in range(1,m): #for j=1,...,m-1 (j=0 and j=m have already been used in Lend)\n",
    "                    y=y1(x)+j*k #We calculate y(x) after j steps (numerical since x has a numerical value)\n",
    "                    Q=f(x,y) #Q is the value of f(x,y) after i steps in the x direction and j steps in the y direction\n",
    "                    \n",
    "                    if j%2==0: #If the index in the y direction is even\n",
    "                        Leven=Leven+Q #Then Q is added to Leven(x)\n",
    "                    else: #If the index in the y direction is even\n",
    "                        Lodd=Lodd+Q#Then Q is added to Lodd\n",
    "                        \n",
    "                #The aplication of simpons rule for the intermidiate step (integration for x)        \n",
    "                g=k/3*(Lend+2*Leven+4*Lodd) \n",
    "                \n",
    "        \n",
    "                if i==n or i==0: #If the index in the x direction is on the end\n",
    "                    Jend=Jend+g #Then g is on either end is added on Jeven\n",
    "        \n",
    "                elif i%2==0: #If the index in the x direction is even\n",
    "                    Jeven=Jeven+g #Then g is added to Jeven\n",
    "                else: #If the index in the x direction is even\n",
    "                    Jodd=Jodd+g #Then g is added to Jodd\n",
    "                    \n",
    "                    \n",
    "            #The aplication of simpons rule for the final step (integration for x) The result with intervals n and m is saven in the\n",
    "            #nth-mth position of array I\n",
    "            I[n_index][m_index]=h/3*(Jend+2*Jeven+4*Jodd) \n",
    "            \n",
    "            \n",
    "        \n",
    "    return I \n",
    "    #Our function returns:\n",
    "    # 1) Array I which contains the numerical results we get for the calculation of I for different values of n and m"
   ]
  },
  {
   "cell_type": "markdown",
   "id": "1a3d98ac-9dfc-46da-909b-90b2df2a1486",
   "metadata": {},
   "source": [
    "We firsly define the integrated funtion $f(x,y)$"
   ]
  },
  {
   "cell_type": "code",
   "execution_count": 3,
   "id": "d0da5a82-0c79-4e03-95cb-3d2109e48659",
   "metadata": {
    "tags": []
   },
   "outputs": [],
   "source": [
    "def f(x,y):\n",
    "    return x**2+y**3"
   ]
  },
  {
   "cell_type": "markdown",
   "id": "8276c334-2750-49c2-b12c-65d7241d0f2f",
   "metadata": {},
   "source": [
    "Then we define the limits in the y direction $y_1(x)=x$ and $y_2(x)=2x$ and on the x direction aI=0, bI=1"
   ]
  },
  {
   "cell_type": "code",
   "execution_count": 4,
   "id": "26b7079d-8ca5-4889-b492-9a238aa36a9d",
   "metadata": {
    "tags": []
   },
   "outputs": [],
   "source": [
    "def y1(x):\n",
    "    return x\n",
    "def y2(x):\n",
    "    return 2*x\n",
    "\n",
    "aI,bI=0,1"
   ]
  },
  {
   "cell_type": "markdown",
   "id": "bed44251-4346-49e4-a885-5f90e22dda94",
   "metadata": {},
   "source": [
    "Finally we define the list containing the different intervals $m$ and $n$. We went with 4,8,50,100,2000.: __Note__ these numbers are all even which is a neccesity if we are to apply Simson's rule."
   ]
  },
  {
   "cell_type": "code",
   "execution_count": 5,
   "id": "ba437d5c-f9c6-4fbe-b48f-0c121ec6acda",
   "metadata": {
    "tags": []
   },
   "outputs": [],
   "source": [
    "n_listI=[4,8,50,100,200]\n",
    "m_listI=[4,8,50,100,200]\n"
   ]
  },
  {
   "cell_type": "markdown",
   "id": "4667ce3a-2d08-411e-a7c2-ec69a7b97e63",
   "metadata": {},
   "source": [
    "We use our function to calculate the given integral 25 times, 1 for every combination of intervals in n_list and m_list. We save our result in I_mn."
   ]
  },
  {
   "cell_type": "code",
   "execution_count": 6,
   "id": "759272b4-477a-4461-83e4-9fc8f0974541",
   "metadata": {
    "tags": []
   },
   "outputs": [
    {
     "name": "stdout",
     "output_type": "stream",
     "text": [
      "The results we get from our function are: \n",
      "I=[[1.001953125     1.001953125     1.001953125     1.001953125\n",
      "  1.001953125    ]\n",
      " [1.0001220703125 1.0001220703125 1.0001220703125 1.0001220703125\n",
      "  1.0001220703125]\n",
      " [1.00000008      1.00000008      1.00000008      1.00000008\n",
      "  1.00000008     ]\n",
      " [1.000000005     1.000000005     1.000000005     1.000000005\n",
      "  1.000000005    ]\n",
      " [1.0000000003125 1.0000000003125 1.0000000003125 1.0000000003125\n",
      "  1.0000000003125]]\n"
     ]
    }
   ],
   "source": [
    "I_mn=doubleSimpson(f,aI,bI,n_listI,y1,y2,m_listI)\n",
    "with np.printoptions(precision=15, suppress=True):\n",
    "    print(f'The results we get from our function are: \\nI={I_mn}')"
   ]
  },
  {
   "cell_type": "markdown",
   "id": "1c37b10c-0d37-4ca0-99a0-734351ffd355",
   "metadata": {},
   "source": [
    "We create a list containing 1000 points between the minimum and maximum of n_listI, and then calculate the corresponding values of h and save them in h_values. Our goal here is to apply the theoretical formula that we reached for our problem: $E=\\frac{h^4}{2}$ and to plot it. Thus theoretical_error_values will hold the value of the expected error for ever $h$ in h_values."
   ]
  },
  {
   "cell_type": "code",
   "execution_count": 7,
   "id": "7190c62d-4c0d-4d4f-8c06-ca186e0b4814",
   "metadata": {
    "tags": []
   },
   "outputs": [],
   "source": [
    "n_values=np.linspace(min(n_listI),max(n_listI),1000)\n",
    "h_values=np.ones(1000)/n_values\n",
    "theoretical_error_values=h_values**4/2"
   ]
  },
  {
   "cell_type": "markdown",
   "id": "d0f1f5fa-88ea-479c-8d1a-d03b0d1604aa",
   "metadata": {},
   "source": [
    "Having calculated the numerical values of $I$ with Simpson's method we can calculate the true error acording to our calculations. We name tose as true_error_mn."
   ]
  },
  {
   "cell_type": "code",
   "execution_count": 8,
   "id": "eacf7e33-1d7d-4a56-8548-e2c86fb69b5c",
   "metadata": {
    "tags": []
   },
   "outputs": [
    {
     "name": "stdout",
     "output_type": "stream",
     "text": [
      "The true error of every one of our numerical calculations is:\n",
      " et=[[1.95312500e-03 1.95312500e-03 1.95312500e-03 1.95312500e-03\n",
      "  1.95312500e-03]\n",
      " [1.22070312e-04 1.22070312e-04 1.22070312e-04 1.22070312e-04\n",
      "  1.22070312e-04]\n",
      " [8.00000002e-08 8.00000002e-08 8.00000000e-08 8.00000000e-08\n",
      "  8.00000000e-08]\n",
      " [5.00000019e-09 4.99999997e-09 4.99999997e-09 4.99999997e-09\n",
      "  5.00000019e-09]\n",
      " [3.12500248e-10 3.12500248e-10 3.12500248e-10 3.12500248e-10\n",
      "  3.12500248e-10]]\n"
     ]
    }
   ],
   "source": [
    "true_error_mn=abs(I_mn-1)\n",
    "print(f'The true error of every one of our numerical calculations is:\\n et={true_error_mn}')"
   ]
  },
  {
   "cell_type": "markdown",
   "id": "a2392531-03f5-4ffb-967c-70160b0d364a",
   "metadata": {},
   "source": [
    "We name the results we got for our true error of $m=50$ ,e_n_50"
   ]
  },
  {
   "cell_type": "code",
   "execution_count": 9,
   "id": "f8f8053a-8275-4cb8-838a-5b58e9fe2181",
   "metadata": {
    "tags": []
   },
   "outputs": [],
   "source": [
    "e_n_50=true_error_mn[:,2]"
   ]
  },
  {
   "cell_type": "markdown",
   "id": "7c64a58f-ea6f-4682-aff4-5798ee773515",
   "metadata": {},
   "source": [
    "Now we will test if the theoretical framework explained in the project has any validity. To do so fistly we will plot the true errors we calculated for $m=50$ e_n_50 as a function of the number of intervals in the $x$ direction $n$ n_list_I. Then we will plot the theoretical curve of the true error  by plotting theoretical_error_values as a function of n_values. __We expext the points (our data) to follow the theoretical curve perfectly__"
   ]
  },
  {
   "cell_type": "code",
   "execution_count": 13,
   "id": "29599996-4643-4c74-b335-074e4c795931",
   "metadata": {
    "tags": []
   },
   "outputs": [
    {
     "data": {
      "image/png": "[encoded data removed]",
      "text/plain": [
       "<Figure size 640x480 with 1 Axes>"
      ]
     },
     "metadata": {},
     "output_type": "display_data"
    }
   ],
   "source": [
    "#A plot of the true error when n=50 and n changes\n",
    "fig, ax = plt.subplots()\n",
    "\n",
    "ax.scatter(n_listI,e_n_50,c='red',label='True error of our results for m=50') #plotting the scatter of the total error calculated from us \n",
    "ax.plot(n_values,theoretical_error_values,label='Theoretically expected curve of the true error') #plotting the curve of the theoretical total error\n",
    "\n",
    "ax.set(xlabel='Number of intervals x was brocken up to (n)', ylabel=\"True error of the double Simpson's rule (Et)\") #Labels of axis\n",
    "\n",
    "#log log scale\n",
    "ax.set_yscale('log') \n",
    "ax.set_xscale('log')\n",
    "\n",
    "ax.set_title(\"Absolute value of double Simpson's rule true error\") #Title\n",
    "ax.legend() #show legend\n",
    "ax.grid()\n",
    "plt.savefig(\"Simpson.pdf\")\n",
    "plt.show()"
   ]
  }
 ],
 "metadata": {
  "kernelspec": {
   "display_name": "Python 3 (ipykernel)",
   "language": "python",
   "name": "python3"
  },
  "language_info": {
   "codemirror_mode": {
    "name": "ipython",
    "version": 3
   },
   "file_extension": ".py",
   "mimetype": "text/x-python",
   "name": "python",
   "nbconvert_exporter": "python",
   "pygments_lexer": "ipython3",
   "version": "3.11.5"
  }
 },
 "nbformat": 4,
 "nbformat_minor": 5
}
